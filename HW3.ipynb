{
 "cells": [
  {
   "cell_type": "code",
   "execution_count": 14,
   "id": "233ce837",
   "metadata": {},
   "outputs": [],
   "source": [
    "import Bio"
   ]
  },
  {
   "cell_type": "code",
   "execution_count": 2,
   "id": "c757dc9b",
   "metadata": {},
   "outputs": [],
   "source": [
    "import sys"
   ]
  },
  {
   "cell_type": "code",
   "execution_count": 3,
   "id": "8a852759",
   "metadata": {},
   "outputs": [],
   "source": [
    "from getopt import getopt"
   ]
  },
  {
   "cell_type": "code",
   "execution_count": 1,
   "id": "9c596de3",
   "metadata": {},
   "outputs": [],
   "source": [
    "import Bio.PDB #PDB-file module for Biopython       "
   ]
  },
  {
   "cell_type": "code",
   "execution_count": 2,
   "id": "343b0cbd",
   "metadata": {},
   "outputs": [],
   "source": [
    "from Bio.PDB.PDBParser import PDBParser #function to read PDB files"
   ]
  },
  {
   "cell_type": "code",
   "execution_count": 37,
   "id": "319cae7f",
   "metadata": {},
   "outputs": [],
   "source": [
    "parser = PDBParser()"
   ]
  },
  {
   "cell_type": "code",
   "execution_count": 68,
   "id": "9f14e2a9",
   "metadata": {},
   "outputs": [],
   "source": [
    "def read_pdb (input_file):\n",
    "    structure_id = \"sample\"\n",
    "    input_file = \"/Users/kevin/Downloads/sample.pdb\"\n",
    "    structure = parser.get_structure(structure_id, filename)\n",
    "    return (structure)\n",
    "#reads in sample.pdb"
   ]
  },
  {
   "cell_type": "code",
   "execution_count": 69,
   "id": "d7e5785b",
   "metadata": {},
   "outputs": [],
   "source": [
    "from Bio.PDB.PDBIO import PDBIO\n",
    "io = PDBIO()\n",
    "io.set_structure(structure)\n",
    "io.save(\"parsed_sample2.pdb\")"
   ]
  },
  {
   "cell_type": "code",
   "execution_count": 70,
   "id": "cd09c17e",
   "metadata": {},
   "outputs": [
    {
     "name": "stdout",
     "output_type": "stream",
     "text": [
      "0-coot-history.py   \u001b[34mDownloads\u001b[m\u001b[m/          \u001b[34mPublic\u001b[m\u001b[m/             parsed_sample.pdb\r\n",
      "0-coot-history.scm  \u001b[34mLibrary\u001b[m\u001b[m/            Untitled.ipynb      parsed_sample2.pdb\r\n",
      "6yb7.cif            \u001b[34mMovies\u001b[m\u001b[m/             Untitled1.ipynb     test.txt\r\n",
      "\u001b[34mDesktop\u001b[m\u001b[m/            \u001b[34mMusic\u001b[m\u001b[m/              Untitled2.ipynb\r\n",
      "\u001b[34mDocuments\u001b[m\u001b[m/          \u001b[34mPictures\u001b[m\u001b[m/           \u001b[34monboarding\u001b[m\u001b[m/\r\n"
     ]
    }
   ],
   "source": [
    "def calculate_contacts (structure):\n",
    "    "
   ]
  },
  {
   "cell_type": "code",
   "execution_count": null,
   "id": "72bdd6f2",
   "metadata": {},
   "outputs": [],
   "source": []
  }
 ],
 "metadata": {
  "kernelspec": {
   "display_name": "Python 3 (ipykernel)",
   "language": "python",
   "name": "python3"
  },
  "language_info": {
   "codemirror_mode": {
    "name": "ipython",
    "version": 3
   },
   "file_extension": ".py",
   "mimetype": "text/x-python",
   "name": "python",
   "nbconvert_exporter": "python",
   "pygments_lexer": "ipython3",
   "version": "3.10.4"
  }
 },
 "nbformat": 4,
 "nbformat_minor": 5
}
